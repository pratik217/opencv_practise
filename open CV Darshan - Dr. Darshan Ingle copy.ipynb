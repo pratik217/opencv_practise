{
 "cells": [
  {
   "cell_type": "markdown",
   "metadata": {},
   "source": [
    "# OpenCV\n",
    "\n",
    "OpenCV  provides basic and advanced concepts of OpenCV. Our OpenCV tutorial is designed for beginners and professionals.\n",
    "\n",
    "OpenCV is an open-source library for the computer vision. It provides the facility to the machine to recognize the faces or objects. In this tutorial we will learn the concept of OpenCV using the Python programming language.\n",
    "\n",
    "Our OpenCV  includes all topics of Read and Save Image, Canny Edge Detection, Template matching, Blob Detection, Contour, Mouse Event, Gaussian blur and so on."
   ]
  },
  {
   "cell_type": "markdown",
   "metadata": {},
   "source": [
    "# What is OpenCV?\n",
    "\n",
    "OpenCV is a Python open-source library, which is used for computer vision in Artificial intelligence, Machine Learning, face recognition, etc.\n",
    "\n",
    "In OpenCV, the CV is an abbreviation form of a computer vision, which is defined as a field of study that helps computers to understand the content of the digital images such as photographs and videos.\n",
    "\n",
    "The purpose of computer vision is to understand the content of the images. It extracts the description from the pictures, which may be an object, a text description, and three-dimension model, and so on. For example, cars can be facilitated with computer vision, which will be able to identify and different objects around the road, such as traffic lights, pedestrians, traffic signs, and so on, and acts accordingly."
   ]
  },
  {
   "cell_type": "markdown",
   "metadata": {},
   "source": [
    "![Image of Yaktocat](https://static.javatpoint.com/tutorial/opencv/images/what-is-opencv2.png)"
   ]
  },
  {
   "cell_type": "markdown",
   "metadata": {},
   "source": [
    "Computer vision allows the computer to perform the same kind of tasks as humans with the same efficiency. There are a two main task which are defined below:\n",
    "\n",
    "__Object Classification__ - In the object classification, we train a model on a dataset of particular objects, and the model classifies new objects as belonging to one or more of your training categories.\n",
    "\n",
    "__Object Identification__ - In the object identification, our model will identify a particular instance of an object - for example, parsing two faces in an image and tagging one as Virat Kohli and other one as Rohit Sharma."
   ]
  },
  {
   "cell_type": "markdown",
   "metadata": {},
   "source": [
    "![Image of Yaktocat](https://static.javatpoint.com/tutorial/opencv/images/what-is-opencv3.png)"
   ]
  },
  {
   "cell_type": "markdown",
   "metadata": {},
   "source": [
    "History\n",
    "\n",
    "OpenCV stands for Open Source Computer Vision Library, which is widely used for image recognition or identification. It was officially launched in 1999 by Intel. It was written in C/C++ in the early stage, but now it is commonly used in Python for the computer vision as well.\n",
    "\n",
    "The first alpha version of OpenCV was released for the common use at the IEEE Conference on Computer Vision and Pattern Recognition in 2000, and between 2001 and 2005, five betas were released. The first 1.0 version was released in 2006.\n",
    "\n",
    "The second version of the OpenCV was released in October 2009 with the significant changes. The second version contains a major change to the C++ interface, aiming at easier, more type-safe, pattern, and better implementations. Currently, the development is done by an independent Russian team and releases its newer version in every six months."
   ]
  },
  {
   "cell_type": "markdown",
   "metadata": {},
   "source": [
    "# How does computer recognize the image?\n",
    "\n",
    "Human eyes provide lots of information based on what they see. Machines are facilitated with seeing everything, convert the vision into numbers and store in the memory. Here the question arises how computer convert images into numbers. So the answer is that the pixel value is used to convert images into numbers. A pixel is the smallest unit of a digital image or graphics that can be displayed and represented on a digital display device."
   ]
  },
  {
   "cell_type": "markdown",
   "metadata": {},
   "source": [
    "![Image of Yaktocat](https://static.javatpoint.com/tutorial/opencv/images/how-does-computer-recognize-the-image.png)"
   ]
  },
  {
   "cell_type": "markdown",
   "metadata": {},
   "source": [
    "The picture intensity at the particular location is represented by the numbers. In the above image, we have shown the pixel values for a grayscale image consist of only one value, the intensity of the black color at that location.\n",
    "\n",
    "There are two common ways to identify the images:\n",
    "\n",
    "1. Grayscale\n",
    "\n",
    "Grayscale images are those images which contain only two colors black and white. The contrast measurement of intensity is black treated as the weakest intensity, and white as the strongest intensity. When we use the grayscale image, the computer assigns each pixel value based on its level of darkness.\n",
    "\n",
    "2. RGB\n",
    "\n",
    "An RGB is a combination of the red, green, blue color which together makes a new color. The computer retrieves that value from each pixel and puts the results in an array to be interpreted."
   ]
  },
  {
   "cell_type": "markdown",
   "metadata": {},
   "source": [
    "![Image of Yaktocat](https://static.javatpoint.com/tutorial/opencv/images/how-does-computer-recognize-the-image2.png)"
   ]
  },
  {
   "cell_type": "markdown",
   "metadata": {},
   "source": [
    "Why OpenCV is used for Computer Vision?\n",
    "\n",
    "OpenCV is available for free of cost.\n",
    "\n",
    "Since the OpenCV library is written in C/C++, so it is quit fast. Now it can be used with Python.\n",
    "\n",
    "It require less RAM to usage, it maybe of 60-70 MB.\n",
    "\n",
    "Computer Vision is portable as OpenCV and can run on any device that can run on C."
   ]
  },
  {
   "cell_type": "markdown",
   "metadata": {},
   "source": [
    "# Installation of the OpenCV\n",
    "\n",
    "Open Anaconda prompt:\n",
    "\n",
    "Copy the below code\n",
    "\n",
    "conda install -c conda-forge opencv  "
   ]
  },
  {
   "cell_type": "markdown",
   "metadata": {},
   "source": [
    "# OpenCV Reading Images\n",
    "\n",
    "OpenCV allows us to perform multiple operations on the image, but to do that it is necessary to read an image file as input, and then we can perform the various operations on it. OpenCV provides following functions which are used to read and write the images.\n",
    "\n",
    "# OpenCV imread function\n",
    "\n",
    "The imread() function loads image from the specified file and returns it. The syntax is:\n",
    "\n",
    "cv2.imread(filename[,flag])\n",
    "\n",
    "Parameters:\n",
    "\n",
    "filename: Name of the file to be loaded\n",
    "\n",
    "flag: The flag specifies the color type of a loaded image:\n",
    "\n",
    "CV_LOAD_IMAGE_ANYDEPTH - If we set it as flag, it will return 16-bits/32-bits image when the input has the corresponding depth, otherwise convert it to 8-BIT.\n",
    "\n",
    "CV_LOAD_IMAGE_COLOR - If we set it as flag, it always return the converted image to the color one.\n",
    "\n",
    "C V_LOAD_IMAGE_GRAYSCALE - If we set it as flag, it always convert image into the grayscale.\n",
    "\n",
    "The imread() function returns a matrix, if the image cannot be read because of unsupported file format, missing file, unsupported or invalid format. Currently, the following file formats are supported.\n",
    "\n",
    "Window bitmaps - *.bmp, *.dib\n",
    "\n",
    "JPEG files - *.jpeg, *.jpg, *.jpe\n",
    "\n",
    "Portable Network Graphics - *.png\n",
    "\n",
    "Portable image format- *.pbm, *.pgm, *.ppm\n",
    "\n",
    "TIFF files - *.tiff, *.tif\n",
    "\n",
    "Note: The color images, the decoded images will have the channels stored in the BGR order.\n",
    "\n",
    "Let's consider the following example:"
   ]
  },
  {
   "cell_type": "code",
   "execution_count": 1,
   "metadata": {},
   "outputs": [
    {
     "data": {
      "text/plain": [
       "2"
      ]
     },
     "execution_count": 1,
     "metadata": {},
     "output_type": "execute_result"
    }
   ],
   "source": [
    "1+1"
   ]
  },
  {
   "cell_type": "code",
   "execution_count": null,
   "metadata": {},
   "outputs": [],
   "source": [
    "#importing the opencv module  \n",
    "import cv2  \n",
    "  \n",
    "# using imread('path') and 0 denotes read as  grayscale image  \n",
    "img = cv2.imread(r'butterfly.jpg',1)  \n",
    "  \n",
    "#This is using for display the image  \n",
    "cv2.imshow('image',img)  \n",
    "  \n",
    "cv2.waitKey(0) # This is necessary to be required so that the image doesn't close immediately.  \n",
    "#It will run continuously until the key press.  \n",
    "cv2.destroyAllWindows()  "
   ]
  },
  {
   "cell_type": "markdown",
   "metadata": {},
   "source": [
    "# OpenCV Save Images"
   ]
  },
  {
   "cell_type": "raw",
   "metadata": {},
   "source": [
    "OpenCV imwrite() function is used to save an image to a specified file. The file extension defines the image format. The syntax is the following:\n",
    "\n",
    "cv2.imwrite(filename, img[,params])  \n",
    "Parameters:\n",
    "filename- Name of the file to be loaded\n",
    "\n",
    "image- Image to be saved.\n",
    "\n",
    "params- The following parameters are currently supported:\n",
    "\n",
    "For JPEG, quality can be from 0 to 100. The default value is 95.\n",
    "For PNG, quality can be the compress level from 0 to 9. The default value is 1.\n",
    "For PPM, PGM, or PBM, it can be a binary format flag 0 or 1. The default value is 1.\n",
    "Let's consider the following example:"
   ]
  },
  {
   "cell_type": "code",
   "execution_count": 1,
   "metadata": {},
   "outputs": [
    {
     "name": "stdout",
     "output_type": "stream",
     "text": [
      "Image written to file-system :  True\n"
     ]
    }
   ],
   "source": [
    "import cv2  \n",
    "  \n",
    "# read image as grey scale  \n",
    "img = cv2.imread(r'butterfly.jpg', 1)  \n",
    "cv2.imshow('image',img)  \n",
    "  \n",
    "# save image  \n",
    "status = cv2.imwrite(r'ingle.jpg', img)  \n",
    "print(\"Image written to file-system : \", status)  "
   ]
  },
  {
   "cell_type": "raw",
   "metadata": {},
   "source": [
    "Output:\n",
    "\n",
    "Image written to file-system : True\n",
    "\n",
    "If the imwrite() function returns the True, which means the file is successfully written in the specified file."
   ]
  },
  {
   "cell_type": "markdown",
   "metadata": {},
   "source": [
    "# OpenCV Basic Operation on Images\n",
    "\n",
    "# Accessing and Modifying pixel values\n",
    "\n",
    "We can retrieve a pixel value by its row and column coordinates. It returns an array of blue, green, red values of the BGR image. It returns the corresponding intensity for the grayscale image. First, we need to load the BGR image."
   ]
  },
  {
   "cell_type": "code",
   "execution_count": 9,
   "metadata": {},
   "outputs": [
    {
     "name": "stdout",
     "output_type": "stream",
     "text": [
      "[Red Green Blue]: [255 255 255]\n"
     ]
    }
   ],
   "source": [
    "import numpy as np  \n",
    "import cv2  \n",
    "img = cv2.imread(\"butterfly.jpg\",1)  \n",
    "pixel = img[100,235]  \n",
    "print(\"[Red Green Blue]:\",pixel) "
   ]
  },
  {
   "cell_type": "markdown",
   "metadata": {},
   "source": [
    "# Accessing Image Properties\n",
    "\n",
    "It is better to know the size of the image to work with the image processing application. In OpenCV, images are generally stored in the Numpy ndarray. To get the image shape or size, use ndarray.shape to find the dimension of the image. Then, we can use the index position to get the height, width, and number of channels.\n",
    "\n",
    "Consider the following example:"
   ]
  },
  {
   "cell_type": "code",
   "execution_count": 5,
   "metadata": {},
   "outputs": [
    {
     "name": "stdout",
     "output_type": "stream",
     "text": [
      "Image Dimension    :  213x236\n",
      "Image Height       :  213\n",
      "Image Width        :  236\n",
      "Number of Channels :  3\n",
      "Image Size  : 150804\n"
     ]
    }
   ],
   "source": [
    "import cv2  \n",
    "# read image  \n",
    "img = cv2.imread(r'butterfly.jpg',1)  \n",
    "  \n",
    "# height, width, number of channels in image  \n",
    "height = img.shape[0]  \n",
    "width = img.shape[1]  \n",
    "channels = img.shape[2]  \n",
    "size1 = img.size \n",
    "dimensions = str(img.shape[0])+'x'+str(img.shape[1])\n",
    "# dimensions = str(height)+'x'+str(width)\n",
    "  \n",
    "print('Image Dimension    : ',dimensions)  \n",
    "print('Image Height       : ',height)  \n",
    "print('Image Width        : ',width)  \n",
    "print('Number of Channels : ',channels)  \n",
    "print('Image Size  :', size1)  "
   ]
  },
  {
   "cell_type": "markdown",
   "metadata": {},
   "source": [
    "# Making Borders for Images"
   ]
  },
  {
   "cell_type": "raw",
   "metadata": {},
   "source": [
    "OpenCV provides the cv2.copyMakeBorder() function to create a border around the image, something like a photo frame. The syntax of the function is given below.\n",
    "\n",
    "cv2.copyMakeBorder(src,top,bottom,left,right,border type)  \n",
    "Parameters:\n",
    "\n",
    "src - It denotes input image.\n",
    "\n",
    "top, bottom, left, right - It defines the border width in the number of pixels in the corresponding direction.\n",
    "\n",
    "borderType - It defines what kind of border to be added. The border can be the following types.\n",
    "\n",
    "value - Color of border if border type is cv.BORDER_CONSTANT\n",
    "\n",
    "Consider the following example:"
   ]
  },
  {
   "cell_type": "code",
   "execution_count": 3,
   "metadata": {},
   "outputs": [
    {
     "data": {
      "image/png": "[encoded data removed]",
      "text/plain": [
       "<Figure size 432x288 with 6 Axes>"
      ]
     },
     "metadata": {
      "needs_background": "light"
     },
     "output_type": "display_data"
    }
   ],
   "source": [
    "import cv2 as cv  \n",
    "import numpy as np  \n",
    "from matplotlib import pyplot as plt  \n",
    "BLUE = [255,0,0]  \n",
    "img1 = cv.imread(r'butterfly.jpg',1)  \n",
    "replicate = cv.copyMakeBorder(img1,10,10,10,10,cv.BORDER_REPLICATE)  \n",
    "reflect = cv.copyMakeBorder(img1,10,10,10,10,cv.BORDER_REFLECT)  \n",
    "reflect101 = cv.copyMakeBorder(img1,10,10,10,10,cv.BORDER_REFLECT_101)  \n",
    "wrap = cv.copyMakeBorder(img1,10,10,10,10,cv.BORDER_WRAP)  \n",
    "constant= cv.copyMakeBorder(img1,10,10,10,10,cv.BORDER_CONSTANT,value=BLUE)  \n",
    "plt.subplot(231),plt.imshow(img1,'gray'),plt.title('ORIGINAL')  \n",
    "plt.subplot(232),plt.imshow(replicate,'gray'),plt.title('REPLICATE')  \n",
    "plt.subplot(233),plt.imshow(reflect,'gray'),plt.title('REFLECT')  \n",
    "plt.subplot(234),plt.imshow(reflect101,'gray'),plt.title('REFLECT_101')  \n",
    "plt.subplot(235),plt.imshow(wrap,'gray'),plt.title('WRAP')  \n",
    "plt.subplot(236),plt.imshow(constant,'gray'),plt.title('CONSTANT')  \n",
    "plt.show()   "
   ]
  },
  {
   "cell_type": "markdown",
   "metadata": {},
   "source": [
    "# OpenCV Resize the image\n",
    "\n",
    "Sometimes, it is necessary to transform the loaded image. In the image processing, we need to resize the image to perform the particular operation. Images are generally stored in Numpy ndarray(array). The ndarray.shape is used to obtain the dimension of the image. We can get the width, height, and numbers of the channels for each pixel by using the index of the dimension variable.\n",
    "\n",
    "Example: 1"
   ]
  },
  {
   "cell_type": "code",
   "execution_count": null,
   "metadata": {},
   "outputs": [
    {
     "name": "stdout",
     "output_type": "stream",
     "text": [
      "Resized Dimensions :  (71, 98, 3)\n"
     ]
    }
   ],
   "source": [
    "import cv2  \n",
    "  \n",
    "img = cv2.imread(r'butterfly.jpg', 1)  \n",
    "scale = 20  \n",
    "width = int(img.shape[1] * scale / 100)  \n",
    "height = int(img.shape[0] * scale / 100)  \n",
    "dim = (width, height)  \n",
    "# resize image  \n",
    "resized = cv2.resize(img, dim, interpolation=cv2.INTER_AREA)  \n",
    "  \n",
    "print('Resized Dimensions : ', resized.shape)  \n",
    "  \n",
    "cv2.imshow(\"Resized image\", resized)  \n",
    "cv2.waitKey(0)  \n",
    "cv2.destroyAllWindows()  "
   ]
  },
  {
   "cell_type": "raw",
   "metadata": {},
   "source": [
    "The resizing of image means changing the dimension of the image, its width or height as well as both. Also the aspect ratio of the original image could be retained by resizing an image. OpenCV provides cv2.resize() function to resize the image. The syntax is given as:\n",
    "\n",
    "cv2.resize(src, dsize[, dst[, fx[,fy[,interpolation]]])  \n",
    "Parameters:\n",
    "src - source/input image (required).\n",
    "dsize - desired size for the output image(required)\n",
    "fx - Scale factor along the horizontal axis.(optional)\n",
    "fy - Scale factor along the vertical axis.\n",
    "Interpolation(optional) - This flag uses following methods:\n",
    "INTER_NEAREST - A nearest-interpolation INTER_AREA - resampling using pixel area relation. When we attempt to do image zoom, it is similar to the INTER_NEAREST method.\n",
    "INTER_CUBIC - A bicubic interpolation over 4×4 pixel neighborhood.\n",
    "INTER_LANCOZS4 - Lanczos interpolation over 8×8 pixel neighborhood.\n",
    "Example of resizing the images\n",
    "There are several ways to resize the image. Below are some examples to perform resize operation:\n",
    "\n",
    "Retain Aspect Ratio ( height to width ratio of the image is retained)\n",
    "Downscale(Decrement in the size of the image)\n",
    "Upscale(Increment in the size of image)\n",
    "Do not preserve Aspect Ratio\n",
    "Resize only the width\n",
    "Resize only the height\n",
    "Resize the specified width and height\n",
    "Retain the aspect ratio\n",
    "\n",
    "Downscale with resize()"
   ]
  },
  {
   "cell_type": "code",
   "execution_count": null,
   "metadata": {},
   "outputs": [
    {
     "name": "stdout",
     "output_type": "stream",
     "text": [
      "Original Dimensions :  (356, 493, 3)\n",
      "Resized Dimensions :  (142, 197, 3)\n"
     ]
    }
   ],
   "source": [
    "import cv2  \n",
    "  \n",
    "img = cv2.imread(r'butterfly.jpg', 1)  \n",
    "  \n",
    "print('Original Dimensions : ', img.shape)  \n",
    "  \n",
    "scale = 40  # percent of original size  \n",
    "width = int(img.shape[1] * scale / 100)  \n",
    "height = int(img.shape[0] * scale / 100)  \n",
    "dim = (width, height)  \n",
    "# resize image  \n",
    "resized = cv2.resize(img, dim, interpolation=cv2.INTER_AREA)  \n",
    "  \n",
    "print('Resized Dimensions : ', resized.shape)  \n",
    "  \n",
    "cv2.imshow(\"Resized image\", resized)  \n",
    "cv2.waitKey(0)  \n",
    "cv2.destroyAllWindows()  "
   ]
  },
  {
   "cell_type": "raw",
   "metadata": {},
   "source": [
    "In the above example, the scale_per variable holds the percentage of the image which needs to be scaled. The value<100 is used to downscale the provided image. We will use this scale_per value along with the original image's dimension to calculate the width and height of the output image."
   ]
  },
  {
   "cell_type": "markdown",
   "metadata": {},
   "source": [
    "# Upscale with resize()"
   ]
  },
  {
   "cell_type": "code",
   "execution_count": null,
   "metadata": {},
   "outputs": [
    {
     "name": "stdout",
     "output_type": "stream",
     "text": [
      "Original Dimensions :  (356, 493, 3)\n",
      "Resized Dimensions :  (534, 739, 3)\n"
     ]
    }
   ],
   "source": [
    "import cv2  \n",
    "  \n",
    "img = cv2.imread(r'butterfly.jpg', 1)  \n",
    "  \n",
    "print('Original Dimensions : ', img.shape)  \n",
    "  \n",
    "scale = 150  # percent of original size  \n",
    "width = int(img.shape[1] * scale / 100)  \n",
    "height = int(img.shape[0] * scale / 100)  \n",
    "dim = (width, height)  \n",
    "# resize image  \n",
    "resized = cv2.resize(img, dim, interpolation=cv2.INTER_AREA)  \n",
    "  \n",
    "print('Resized Dimensions : ', resized.shape)  \n",
    "  \n",
    "cv2.imshow(\"Resized image\", resized)  \n",
    "cv2.waitKey(0)  \n",
    "cv2.destroyAllWindows()  "
   ]
  },
  {
   "cell_type": "markdown",
   "metadata": {},
   "source": [
    "# Not retaining the aspect ratio\n",
    "\n",
    "Resize only the width\n",
    "\n",
    "In the below example, we have provided a specific value in pixel for width and the height will remain unaffected."
   ]
  },
  {
   "cell_type": "code",
   "execution_count": null,
   "metadata": {},
   "outputs": [
    {
     "name": "stdout",
     "output_type": "stream",
     "text": [
      "Original Dimensions :  (356, 493, 3)\n",
      "Resized Dimensions :  (440, 493, 3)\n"
     ]
    }
   ],
   "source": [
    "import cv2  \n",
    "  \n",
    "img = cv2.imread(r'butterfly.jpg', cv2.IMREAD_UNCHANGED)  \n",
    "print('Original Dimensions : ', img.shape)  \n",
    "  \n",
    "width = img.shape[1]  # keep original width  \n",
    "height = 440   \n",
    "dim = (width, height)  \n",
    "  \n",
    "# resize image  \n",
    "resized = cv2.resize(img, dim, interpolation=cv2.INTER_AREA)  \n",
    "  \n",
    "print('Resized Dimensions : ', resized.shape)  \n",
    "  \n",
    "cv2.imshow(\"Resized image\", resized)  \n",
    "cv2.waitKey(0)  \n",
    "cv2.destroyAllWindows()  "
   ]
  },
  {
   "cell_type": "markdown",
   "metadata": {},
   "source": [
    "# Resize the height\n",
    "\n",
    "In the below example, the scale_per value holds the percentage by which height has to be scaled or we can provide the specific value in pixels."
   ]
  },
  {
   "cell_type": "code",
   "execution_count": null,
   "metadata": {},
   "outputs": [
    {
     "name": "stdout",
     "output_type": "stream",
     "text": [
      "Original Dimensions :  (356, 493, 3)\n",
      "Resized Dimensions :  (200, 493, 3)\n"
     ]
    }
   ],
   "source": [
    "import cv2  \n",
    "  \n",
    "img = cv2.imread(r'butterfly.jpg', 1)  \n",
    "print('Original Dimensions : ', img.shape)  \n",
    "width = img.shape[1]  # keep original width  \n",
    "height = 200  \n",
    "dim = (width, height)  \n",
    "  \n",
    "# resize image  \n",
    "resized = cv2.resize(img, dim, interpolation=cv2.INTER_AREA)  \n",
    "  \n",
    "print('Resized Dimensions : ', resized.shape)  \n",
    "  \n",
    "cv2.imshow(\"Resized image\", resized)  \n",
    "cv2.waitKey(0)  \n",
    "cv2.destroyAllWindows()  "
   ]
  },
  {
   "cell_type": "raw",
   "metadata": {},
   "source": [
    "Resize the specific width and height\n",
    "\n",
    "We can specify both width and height."
   ]
  },
  {
   "cell_type": "code",
   "execution_count": null,
   "metadata": {},
   "outputs": [
    {
     "name": "stdout",
     "output_type": "stream",
     "text": [
      "Original Dimensions :  (356, 493, 3)\n",
      "Resized Dimensions :  (450, 350, 3)\n"
     ]
    }
   ],
   "source": [
    "import cv2  \n",
    "  \n",
    "img = cv2.imread(r'butterfly.jpg', 1)  \n",
    "print('Original Dimensions : ', img.shape)  \n",
    "  \n",
    "width = 350  \n",
    "height = 450  \n",
    "dim = (width, height)  \n",
    "# resize image  \n",
    "resized = cv2.resize(img, dim, interpolation=cv2.INTER_AREA)  \n",
    "  \n",
    "print('Resized Dimensions : ', resized.shape)  \n",
    "cv2.imshow(\"Resized image\", resized)  \n",
    "cv2.waitKey(0)  \n",
    "cv2.destroyAllWindows()  "
   ]
  },
  {
   "cell_type": "markdown",
   "metadata": {},
   "source": [
    "# OpenCV Image Rotation"
   ]
  },
  {
   "cell_type": "raw",
   "metadata": {},
   "source": [
    "The image can be rotated in various angles (90,180,270 and 360). OpenCV calculates the affine matrix that performs affine transformation, which means it does not preserve the angle between the lines or distances between the points, although it preserves the ratio of distances between points lying on the lines.\n",
    "\n",
    "The syntax of the rotate image is the following:\n",
    "\n",
    "cv2.getRotationMatrix2D(center, angle, scale rotated = cv2.warpAfifne(img,M,(w,h))  \n",
    "Parameters:\n",
    "center: It represents the center of the image.\n",
    "angle: It represents the angle by which a particular image to be rotated in the anti-clockwise direction.\n",
    "rotated: ndarray that holds the rotated image data.\n",
    "scale: The value 1.0 is denoted that the shape is preserved. Scale the image according to the provided value.\n",
    "Example-1"
   ]
  },
  {
   "cell_type": "code",
   "execution_count": 1,
   "metadata": {},
   "outputs": [],
   "source": [
    "import cv2  \n",
    "# read image as greyscale  \n",
    "img = cv2.imread(r'butterfly.jpg')  \n",
    "# get image height, width  \n",
    "(h, w) = img.shape[:2]  \n",
    "# calculate the center of the image  \n",
    "center = (w / 2, h / 2)  \n",
    "  \n",
    "angle90 = 90  \n",
    "angle180 = 180  \n",
    "angle270 = 270  \n",
    "  \n",
    "scale = 1.0  \n",
    "  \n",
    "# Perform the counterclockwise rotation holding at the center  \n",
    "# 90 degrees  \n",
    "M = cv2.getRotationMatrix2D(center, angle90, scale)  \n",
    "rotated90 = cv2.warpAffine(img, M, (h, w))  \n",
    "  \n",
    "# 180 degrees  \n",
    "M = cv2.getRotationMatrix2D(center, angle180, scale)  \n",
    "rotated180 = cv2.warpAffine(img, M, (w, h))  \n",
    "  \n",
    "# 270 degrees  \n",
    "M = cv2.getRotationMatrix2D(center, angle270, scale)  \n",
    "rotated270 = cv2.warpAffine(img, M, (h, w))  \n",
    "  \n",
    "cv2.imshow('Original Image', img)  \n",
    "cv2.waitKey(0)  # waits until a key is pressed  \n",
    "cv2.destroyAllWindows()  # destroys the window showing image  \n",
    "  \n",
    "cv2.imshow('Image rotated by 90 degrees', rotated90)  \n",
    "cv2.waitKey(0)  # waits until a key is pressed  \n",
    "cv2.destroyAllWindows()  # destroys the window showing imag  \n",
    "  \n",
    "cv2.imshow('Image rotated by 180 degrees', rotated180)  \n",
    "cv2.waitKey(0)  # waits until a key is pressed  \n",
    "cv2.destroyAllWindows()  # destroys the window showing image  \n",
    "  \n",
    "cv2.imshow('Image rotated by 270 degrees', rotated270)  \n",
    "cv2.waitKey(0)  # waits until a key is pressed  \n",
    "cv2.destroyAllWindows()  # destroys the window showing image  "
   ]
  },
  {
   "cell_type": "markdown",
   "metadata": {},
   "source": [
    "# OpenCV Drawing Functions\n",
    "\n",
    "We can draw the various shapes on an image such as circle, rectangle, ellipse, polylines, convex, etc. It is used when we want to highlight any object in the input image. The OpenCV provides functions for each shape. Here we will learn about the drawing functions."
   ]
  },
  {
   "cell_type": "markdown",
   "metadata": {},
   "source": [
    "# Drawing Circle"
   ]
  },
  {
   "cell_type": "raw",
   "metadata": {},
   "source": [
    "We can draw the circle on the image by using the cv2.circle() function. The syntax is the following:\n",
    "\n",
    "cv2.circle(img, center, radius, color[,thickness [, lineType[,shift]]])  \n",
    "Parameters:\n",
    "img- It represents the given image.\n",
    "center- Center of the circle\n",
    "radius- Radius of the circle\n",
    "color- Circle color\n",
    "thickness- It denotes the thickness of the circle outline, if it is positive. And negative thickness means that a filled circle is to be drawn.\n",
    "lineType- Defines the type of the circle boundary.\n",
    "shift- It represents the number of fractional bits in the coordinate of the center and the radius value.\n",
    "Consider the following example:"
   ]
  },
  {
   "cell_type": "code",
   "execution_count": 2,
   "metadata": {},
   "outputs": [],
   "source": [
    "import numpy as np  \n",
    "import cv2  \n",
    "img = cv2.imread(r\"butterfly.jpg\",1)  \n",
    "cv2.circle(img,(80,80), 55, (0,255,0), -1)  \n",
    "# try\n",
    "# cv2.circle(img,(80,80), 55, (0,255,0), 1)  \n",
    "\n",
    "cv2.imshow('image',img)  \n",
    "cv2.waitKey(0)  \n",
    "cv2.destroyAllWindows()  "
   ]
  },
  {
   "cell_type": "markdown",
   "metadata": {},
   "source": [
    "# Drawing Rectangle"
   ]
  },
  {
   "cell_type": "raw",
   "metadata": {},
   "source": [
    "The OpenCV provides a function to draw a simple, thick or filled up-right rectangle. The syntax is following:\n",
    "\n",
    "cv2.rectangle(img, pt1, pt2, color[, thickness[,lineType[,shift]]])  \n",
    "Parameters:\n",
    "img- It represents an image.\n",
    "pt1- It denotes vertex of the rectangle.\n",
    "pt2- It denotes the vertex of the rectangle opposite to pt1.\n",
    "color- It denotes the rectangle color of brightness (grayscale image).\n",
    "thickness- It represents the thickness of the lines that makes up the rectangle. Negative values (CV_FILLED) mean that the function has to draw a filled rectangle.\n",
    "linetype- It represents the types of the line.\n",
    "shift- It represents the number of fractional bits in the point coordinates.\n",
    "Consider the following example:"
   ]
  },
  {
   "cell_type": "code",
   "execution_count": 5,
   "metadata": {},
   "outputs": [],
   "source": [
    "import numpy as np  \n",
    "import cv2  \n",
    "img = cv2.imread(r\"butterfly.jpg\",1)  \n",
    "cv2.rectangle(img,(50,250),(200,100),(0,255,255),10)  \n",
    "# cv2.rectangle(img,position of rect,rectangle length and breadth,color,fill)  \n",
    "cv2.imshow('image',img)  \n",
    "cv2.waitKey(0)  \n",
    "cv2.destroyAllWindows() "
   ]
  },
  {
   "cell_type": "markdown",
   "metadata": {},
   "source": [
    "# Drawing Ellipse"
   ]
  },
  {
   "cell_type": "raw",
   "metadata": {},
   "source": [
    "We can draw an ellipse on an image by using the cv2.ellipse() function. It can draw a simple or thick elliptic arc or can fill an ellipse sector.\n",
    "\n",
    "cv2.ellipse(img, center, axes, angle, startAngle, endAngle, color[, thickness[, lineType[, shift]]])   \n",
    "cv2.ellipse(img, box, color[, thickness[, lineType]])   \n",
    "Parameters:\n",
    "img - It represents an image.\n",
    "box - It represents alternative ellipse representation via RotatedRect or CvBox2D. It means that the function is used to draws an ellipse in a curved rectangle.\n",
    "color - It denotes the ellipse color.\n",
    "angle- It denotes the angle of rotation.\n",
    "startAngle - It denotes the initial angle of the elliptic arc in degrees.\n",
    "endAngle - It denotes the ending angle of the elliptic arc in degrees.\n",
    "thickness - It is used to draw thickness of the ellipse arc outline if the value is positive. Otherwise, this specifies that a filled ellipse is to be drawn.\n",
    "lineType - It denotes the type of the ellipse boundary.\n",
    "shift - It represents the number of fractional bits in the coordinates of the center and values of axes.\n",
    "Consider the following example:"
   ]
  },
  {
   "cell_type": "code",
   "execution_count": null,
   "metadata": {},
   "outputs": [],
   "source": [
    "import numpy as np  \n",
    "import cv2  \n",
    "img = cv2.imread(r\"butterfly.jpg\",1)  \n",
    "  \n",
    "cv2.ellipse(img, (250, 150), (80, 20), 5, 0, 360, (0,0,255), -1)  \n",
    "cv2.imshow('image',img)  \n",
    "cv2.waitKey(0)  \n",
    "cv2.destroyAllWindows()  "
   ]
  },
  {
   "cell_type": "raw",
   "metadata": {},
   "source": [
    "There are two functions to draw the ellipse. The first function is used to draw the whole ellipse, not an arc bypassing startAngle=0 and endAngle = 360. The second function of an ellipse is used to draw an ellipse outline, a filled ellipse, an elliptic arc, or a filled ellipse sector."
   ]
  },
  {
   "cell_type": "markdown",
   "metadata": {},
   "source": [
    "# Drawing lines"
   ]
  },
  {
   "cell_type": "raw",
   "metadata": {},
   "source": [
    "OpenCV provides the line() function to draw the line on the image. It draws a line segment between ptr1 and ptr2 points in the image. The image boundary clips the line.\n",
    "\n",
    "cv2.line(img, pt1, pt2, color[, thickness[, lineType[, shift]]])  \n",
    "Parameters:\n",
    "img- It represents an image.\n",
    "pt1- It denotes the first point of the line segments.\n",
    "pt2- It denotes the second point of the line segment.\n",
    "color - Represents the Line-color\n",
    "thickness- Represents the Line thickness\n",
    "lineType- There are various types of line:\n",
    "8 (or omitted) - 8 connected lines.\n",
    "4 - 4-connected line.\n",
    "CV__AA- antialiased line\n",
    "shift- It represents the number of fractional bits in the point coordinates.\n",
    "Consider the following example:"
   ]
  },
  {
   "cell_type": "code",
   "execution_count": null,
   "metadata": {},
   "outputs": [],
   "source": [
    "import numpy as np  \n",
    "import cv2  \n",
    "img = cv2.imread(r\"butterfly.jpg\",1)  \n",
    "cv2.line(img,(100,100),(150,150),(255,255,0),15)  \n",
    "cv2.imshow('image',img)  \n",
    "cv2.waitKey(0)  \n",
    "cv2.destroyAllWindows()  "
   ]
  },
  {
   "cell_type": "markdown",
   "metadata": {},
   "source": [
    "# Write Text on Image"
   ]
  },
  {
   "cell_type": "raw",
   "metadata": {},
   "source": [
    "We can write text on the image by using the putText() function. The syntax is given below.\n",
    "\n",
    "cv2.putText(img, text, org, font, color)  \n",
    "Parameters:\n",
    "img: It represents an image\n",
    "text: It represents a text which we want to write on the image.\n",
    "org: It denotes the Bottom-left corner of the text string in the image.\n",
    "font: CvFont structure is initialized using InitFont().\n",
    "color: Represents the Text color.\n",
    "Consider the following example."
   ]
  },
  {
   "cell_type": "code",
   "execution_count": 9,
   "metadata": {},
   "outputs": [
    {
     "data": {
      "text/plain": [
       "-1"
      ]
     },
     "execution_count": 9,
     "metadata": {},
     "output_type": "execute_result"
    }
   ],
   "source": [
    "import numpy as np  \n",
    "import cv2  \n",
    "font = cv2.FONT_HERSHEY_SIMPLEX  \n",
    "# Create a black image.  \n",
    "img = cv2.imread(r\"butterfly.jpg\",1)  \n",
    "cv2.putText(img,'Darshan Ingle',(10,50), font, 1,(0,255,0),2)  \n",
    "#Display the image  \n",
    "cv2.imshow(\"image\",img)  \n",
    "cv2.waitKey(0)  "
   ]
  },
  {
   "cell_type": "markdown",
   "metadata": {},
   "source": [
    "# Drawing Polylines"
   ]
  },
  {
   "cell_type": "raw",
   "metadata": {},
   "source": [
    "We can draw the polylines on the image. OpenCV provides the polylines() function, that is used to draw polygonal curves on the image. The syntax is given below:\n",
    "\n",
    "cv2.polyLine(img, polys, is_closed, color, thickness=1, lineType=8, shift=0)  \n",
    "Parameters:\n",
    "img - It represents an image.\n",
    "pts - It denotes the array of polygon curves.\n",
    "npts - It denotes an array of polygon vertex counters.\n",
    "ncounters - It represents the number of curves.\n",
    "is_Closed - It is a flag that indicates whether the drawn polylines are closed or not.\n",
    "color - Color of polylines.\n",
    "thickness - It represents the Thickness of the polylines edges.\n",
    "lineType - Type of the line segment.\n",
    "shift- It represents the number of fractional bits in the point coordinates.\n",
    "Consider the following program to draw polylines in image:"
   ]
  },
  {
   "cell_type": "code",
   "execution_count": null,
   "metadata": {},
   "outputs": [],
   "source": [
    "import numpy as np  \n",
    "import cv2  \n",
    "img = cv2.imread(r'butterfly.jpg',cv2.IMREAD_COLOR)  \n",
    "#defining points for polylines  \n",
    "pts = np.array([[100,50],[200,300],[700,200],[500,100]], np.int32)  \n",
    "# pts = pts.reshape((-1,1,2))  \n",
    "cv2.polylines(img, [pts], True, (0,255,255), thickness=20)  \n",
    "cv2.imshow('image',img)  \n",
    "cv2.waitKey(0)  \n",
    "cv2.destroyAllWindows()  "
   ]
  },
  {
   "cell_type": "markdown",
   "metadata": {},
   "source": [
    "# OpenCV Canny Edge Detection"
   ]
  },
  {
   "cell_type": "raw",
   "metadata": {},
   "source": [
    "Edge detection is term where identify the boundary of object in image. We will learn about the edge detection using the canny edge detection technique. The syntax is canny edge detection function is given as:\n",
    "\n",
    "edges = cv2.Canny('/path/to/img', minVal, maxVal, apertureSize, L2gradient)  \n",
    "Parameters-\n",
    "/path/to/img: file path of the image (required)\n",
    "minVal: Minimum intensity gradient (required)\n",
    "maxVal: Maximum intensity gradient (required)\n",
    "aperture: It is optional argument.\n",
    "L2gradient: Its default value is false, if value is true, Canny () uses a more computationally expensive equation to detect edges, which provides more accuracy at the cost of resources.\n",
    "Example: 1"
   ]
  },
  {
   "cell_type": "code",
   "execution_count": 12,
   "metadata": {},
   "outputs": [],
   "source": [
    "import cv2  \n",
    "img = cv2.imread(r'car2.jpg')  \n",
    "edges = cv2.Canny(img, 100, 200)  \n",
    "  \n",
    "cv2.imshow(\"Edge Detected Image\", edges)  \n",
    "cv2.imshow(\"Original Image\", img)  \n",
    "cv2.waitKey(0)  # waits until a key is pressed  \n",
    "cv2.destroyAllWindows()  # destroys the window showing image"
   ]
  },
  {
   "cell_type": "markdown",
   "metadata": {},
   "source": [
    "# Example: Real Time Edge detection"
   ]
  },
  {
   "cell_type": "code",
   "execution_count": 13,
   "metadata": {},
   "outputs": [
    {
     "ename": "error",
     "evalue": "OpenCV(4.0.1) C:\\ci\\opencv-suite_1573470242804\\work\\modules\\imgproc\\src\\color.cpp:181: error: (-215:Assertion failed) !_src.empty() in function 'cv::cvtColor'\n",
     "output_type": "error",
     "traceback": [
      "\u001b[1;31m---------------------------------------------------------------------------\u001b[0m",
      "\u001b[1;31merror\u001b[0m                                     Traceback (most recent call last)",
      "\u001b[1;32m<ipython-input-13-35606bec3885>\u001b[0m in \u001b[0;36m<module>\u001b[1;34m\u001b[0m\n\u001b[0;32m     15\u001b[0m \u001b[1;33m\u001b[0m\u001b[0m\n\u001b[0;32m     16\u001b[0m     \u001b[1;31m# converting BGR to HSV\u001b[0m\u001b[1;33m\u001b[0m\u001b[1;33m\u001b[0m\u001b[1;33m\u001b[0m\u001b[0m\n\u001b[1;32m---> 17\u001b[1;33m     \u001b[0mhsv\u001b[0m \u001b[1;33m=\u001b[0m \u001b[0mcv2\u001b[0m\u001b[1;33m.\u001b[0m\u001b[0mcvtColor\u001b[0m\u001b[1;33m(\u001b[0m\u001b[0mframe\u001b[0m\u001b[1;33m,\u001b[0m \u001b[0mcv2\u001b[0m\u001b[1;33m.\u001b[0m\u001b[0mCOLOR_BGR2HSV\u001b[0m\u001b[1;33m)\u001b[0m\u001b[1;33m\u001b[0m\u001b[1;33m\u001b[0m\u001b[0m\n\u001b[0m\u001b[0;32m     18\u001b[0m     \u001b[1;31m# define range of red color in HSV\u001b[0m\u001b[1;33m\u001b[0m\u001b[1;33m\u001b[0m\u001b[1;33m\u001b[0m\u001b[0m\n\u001b[0;32m     19\u001b[0m     \u001b[0mlower_red\u001b[0m \u001b[1;33m=\u001b[0m \u001b[0mnp\u001b[0m\u001b[1;33m.\u001b[0m\u001b[0marray\u001b[0m\u001b[1;33m(\u001b[0m\u001b[1;33m[\u001b[0m\u001b[1;36m30\u001b[0m\u001b[1;33m,\u001b[0m \u001b[1;36m150\u001b[0m\u001b[1;33m,\u001b[0m \u001b[1;36m50\u001b[0m\u001b[1;33m]\u001b[0m\u001b[1;33m)\u001b[0m\u001b[1;33m\u001b[0m\u001b[1;33m\u001b[0m\u001b[0m\n",
      "\u001b[1;31merror\u001b[0m: OpenCV(4.0.1) C:\\ci\\opencv-suite_1573470242804\\work\\modules\\imgproc\\src\\color.cpp:181: error: (-215:Assertion failed) !_src.empty() in function 'cv::cvtColor'\n"
     ]
    }
   ],
   "source": [
    "# import libraries of python OpenCV    \n",
    "import cv2  \n",
    "  \n",
    "# import Numpy by alias name np  \n",
    "import numpy as np  \n",
    "  \n",
    "# capture frames from a camera   \n",
    "cap = cv2.VideoCapture(0)  \n",
    "  \n",
    "# loop runs if capturing has been initialized   \n",
    "while (1):  \n",
    "  \n",
    "    # reads frames from a camera   \n",
    "    ret, frame = cap.read()  \n",
    "  \n",
    "    # converting BGR to HSV   \n",
    "    hsv = cv2.cvtColor(frame, cv2.COLOR_BGR2HSV)  \n",
    "    # define range of red color in HSV   \n",
    "    lower_red = np.array([30, 150, 50])  \n",
    "    upper_red = np.array([255, 255, 180])  \n",
    "  \n",
    "    # create a red HSV colour boundary and    \n",
    "    # threshold HSV image   \n",
    "    mask = cv2.inRange(hsv, lower_red, upper_red)  \n",
    "  \n",
    "    # Bitwise-AND mask and original image   \n",
    "    res = cv2.bitwise_and(frame, frame, mask=mask)  \n",
    "  \n",
    "    # Display an original image   \n",
    "    cv2.imshow('Original', frame)  \n",
    "  \n",
    "    # discovers edges in the input image image and   \n",
    "    # marks them in the output map edges   \n",
    "    edges = cv2.Canny(frame, 100, 200)  \n",
    "  \n",
    "    # Display edges in a frame   \n",
    "    cv2.imshow('Edges', edges)  \n",
    "  \n",
    "    # Wait for Esc key to stop   \n",
    "    k = cv2.waitKey(5) & 0xFF  \n",
    "    if k == 27:  \n",
    "        break  \n",
    "  \n",
    "# Close the window   \n",
    "cap.release()  \n",
    "  \n",
    "# De-allocate any associated memory usage   \n",
    "cv2.destroyAllWindows()  "
   ]
  },
  {
   "cell_type": "markdown",
   "metadata": {},
   "source": [
    "# OpenCV Blur (Image Smoothing)"
   ]
  },
  {
   "cell_type": "raw",
   "metadata": {},
   "source": [
    "Blurring is the commonly used technique for image processing to removing the noise. It is generally used to eliminate the high-frequency content such as noise, edges in the image. The edges are being blurred when we apply blur to the image. The advantages of blurring are the following:\n",
    "\n",
    "Advantages of Blurring\n",
    "The benefits of blurring are the following:\n",
    "\n",
    "It removes low-intensity edges.\n",
    "It helps in smoothing the image.\n",
    "It is beneficial in hiding the details; for example, blurring is required in many cases, such as police intentionally want to hide the victim's face.\n",
    "OpenCV provides mainly the following type of blurring techniques."
   ]
  },
  {
   "cell_type": "markdown",
   "metadata": {},
   "source": [
    "# OpenCV Averaging"
   ]
  },
  {
   "cell_type": "raw",
   "metadata": {},
   "source": [
    "In this technique, the image is convolved with a box filter (normalize). It calculates the average of all the pixels which are under the kernel area and replaces the central element with the calculated average. OpenCV provides the cv2.blur() or cv2.boxFilter() to perform this operation. We should define the width and height of the kernel. The syntax of cv2.blur() function is following.\n",
    "\n",
    "cv2.blur(src, dst, ksize, anchor, borderType)  \n",
    "Parameters:\n",
    "src - It represents the source (input) image.\n",
    "\n",
    "dst - It represents the destination (output) image.\n",
    "\n",
    "ksize - It represents the size of the kernel.\n",
    "\n",
    "anchor - It denotes the anchor points.\n",
    "\n",
    "borderType - It represents the type of border to be used to the output.\n",
    "\n",
    "Consider the following example:"
   ]
  },
  {
   "cell_type": "code",
   "execution_count": 14,
   "metadata": {},
   "outputs": [],
   "source": [
    "# import libraries of python OpenCV    \n",
    "import cv2  \n",
    "im = cv2.imread(r'butterfly.jpg')  \n",
    "cv2.imshow('Original Image',im)  \n",
    "cv2.imshow('Blurred Image', cv2.blur(im, (15,15))) \n",
    "# (9,9) kernel\n",
    "cv2.waitKey(0)  \n",
    "cv2.destroyAllWindows()  "
   ]
  },
  {
   "cell_type": "markdown",
   "metadata": {},
   "source": [
    "# OpenCV Median Blur"
   ]
  },
  {
   "cell_type": "raw",
   "metadata": {},
   "source": [
    "The median blur operation is quite similar to the Gaussian blur. OpenCV provides the medianblur() function to perform the blur operation. It takes the median of all the pixels under the kernel area, and the central element is replaced with this median value. It is extremely effective for the salt-and-paper noise in the image. The kernel size should be a positive odd integer. Following is the syntax of this method.\n",
    "\n",
    "cv2.medianBlur(src, dst, ksize)  \n",
    "Parameters:\n",
    "src- It represents the source (input image).\n",
    "\n",
    "dst - It represents the destination (output image).\n",
    "\n",
    "ksize - It represents the size of the kernel.\n",
    "\n",
    "Consider the following example:"
   ]
  },
  {
   "cell_type": "code",
   "execution_count": 15,
   "metadata": {},
   "outputs": [],
   "source": [
    "import cv2    \n",
    "import numpy    \n",
    "    \n",
    "# read image    \n",
    "src = cv2.imread(r'butterfly.jpg', 1)      \n",
    "# apply gaussian blur on src image    \n",
    "dst = cv2.GaussianBlur(src, (5, 5), cv2.BORDER_DEFAULT)    \n",
    "    \n",
    "# display input and output image    \n",
    "cv2.imshow(\"Gaussian Smoothing\", numpy.hstack((src, dst)))    \n",
    "cv2.waitKey(0)  # waits until a key is pressed    \n",
    "cv2.destroyAllWindows()  # destroys the window showing image    "
   ]
  },
  {
   "cell_type": "markdown",
   "metadata": {},
   "source": [
    "# OpenCV Gaussian Blur"
   ]
  },
  {
   "cell_type": "raw",
   "metadata": {},
   "source": [
    "Image smoothing is a technique which helps in reducing the noise in the images. Image may contain various type of noise because of camera sensor. It basically eliminates the high frequency (noise, edge) content from the image so edges are slightly blurred in this operation. OpenCV provide gaussianblur() function to apply smoothing on the images. The syntax is following:\n",
    "\n",
    "dst=cv2.GuassiasBlur(src, ksize, sigmaX[,dst[,sigmaY[, borderType=BORDER_DEFAULT]]]  \n",
    "Parameters:\n",
    "src -It is used to input an Image.\n",
    "dst -It is a variable which stores an output Image.\n",
    "ksize -It defines the Gaussian Kernel Size[height width ]. Height and width must be odd (1,3,5,..) and can have different values. If ksize is set to [0,0], then ksize is computed from sigma value.\n",
    "sigmaX - Kernel standard derivation along X-axis.(horizontal direction).\n",
    "sigmaY - Kernel standard derivation along Y-axis (vertical direction). If sigmaY = 0 then sigmaX value is taken for sigmaY.\n",
    "borderType - These are the specified image boundaries while the kernel is applied on the image borders. Possible border type is:\n",
    "\n",
    "cv.BORDER_CONSTANT\n",
    "cv.BORDER_REPLICATE\n",
    "cv.BORDER_REFLECT\n",
    "cv.BORDER_WRAP\n",
    "cv.BORDER_REFLECT_101\n",
    "cv.BORDER_TRANSPARENT\n",
    "cv.BORDER_REFLECT101\n",
    "cv.BORDER_DEFAULT\n",
    "cv.BORDER_ISOLATED\n",
    "Consider the following example:"
   ]
  },
  {
   "cell_type": "code",
   "execution_count": 16,
   "metadata": {},
   "outputs": [],
   "source": [
    "import cv2    \n",
    "import numpy    \n",
    "    \n",
    "# read image    \n",
    "src = cv2.imread(r'butterfly.jpg', 1)      \n",
    "# apply gaussian blur on src image    \n",
    "dst = cv2.GaussianBlur(src, (5, 5), cv2.BORDER_WRAP)    \n",
    "    \n",
    "# display input and output image    \n",
    "cv2.imshow(\"Gaussian Smoothing\", numpy.hstack((src, dst)))    \n",
    "cv2.waitKey(0)  # waits until a key is pressed    \n",
    "cv2.destroyAllWindows()  # destroys the window showing image    "
   ]
  },
  {
   "cell_type": "markdown",
   "metadata": {},
   "source": [
    "# OpenCV Image Threshold"
   ]
  },
  {
   "cell_type": "raw",
   "metadata": {},
   "source": [
    "The basic concept of the threshold is that more simplify the visual data for analysis. When we convert the image into gray-scale, we have to remember that grayscale still has at least 255 values. The threshold is converted everything to white or black, based on the threshold value. Let's assume we want the threshold to be 125(out of 255), then everything that was under the 125 would be converted to 0 or black, and everything above the 125 would be converted to 255, or white. The syntax is as follows:\n",
    "\n",
    "retval,threshold = cv2.threshold(src, thresh, maxValue, cv2.THRESH_BINARY_INV)  \n",
    "Parameters-\n",
    "src: Source image, it should be a grayscale image.\n",
    "\n",
    "thresh: It is used to classify the pixel value.\n",
    "\n",
    "maxVal: It represents the value to be given if the pixel exceeds the threshold value.\n",
    "\n",
    "OpenCV provides different styles of threshold that is used as fourth parameter of the function. These are the following:\n",
    "\n",
    "cv2.THRESH_BINARY\n",
    "cv2.THRESH_BINARY_INV\n",
    "cv2.THRESH_TRUNC\n",
    "cv2.THRESH_TOZERO\n",
    "cv2.THRESH_TOZERO_INV\n",
    "Let's take a sample input image"
   ]
  },
  {
   "cell_type": "code",
   "execution_count": 17,
   "metadata": {},
   "outputs": [
    {
     "data": {
      "text/plain": [
       "-1"
      ]
     },
     "execution_count": 17,
     "metadata": {},
     "output_type": "execute_result"
    }
   ],
   "source": [
    "import cv2  \n",
    "img  = cv2.imread(r'butterfly.jpg',1)  \n",
    "retval, threshold = cv2.threshold(img, 62, 255, cv2.THRESH_BINARY)  \n",
    "cv2.imshow(\"Original Image\", img)  \n",
    "cv2.imshow(\"Threshold\",threshold)  \n",
    "cv2.waitKey(0)  "
   ]
  },
  {
   "cell_type": "raw",
   "metadata": {},
   "source": [
    "We have taken above image as an input. We describe how threshold actually works. The above image is slightly dim and little bit hard to read. Some parts are light enough to read, while other part is required more focus to read properly.\n",
    "\n",
    "Let's consider the following example:"
   ]
  },
  {
   "cell_type": "code",
   "execution_count": 18,
   "metadata": {},
   "outputs": [
    {
     "data": {
      "text/plain": [
       "-1"
      ]
     },
     "execution_count": 18,
     "metadata": {},
     "output_type": "execute_result"
    }
   ],
   "source": [
    "import cv2  \n",
    "img  = cv2.imread(r'butterfly.jpg',1)  \n",
    "retval, threshold = cv2.threshold(img, 62, 255, cv2.THRESH_BINARY)  \n",
    "cv2.imshow(\"Original Image\", img)  \n",
    "cv2.imshow(\"Threshold\",threshold)  \n",
    "cv2.waitKey(0)  "
   ]
  },
  {
   "cell_type": "markdown",
   "metadata": {},
   "source": [
    "# OpenCV Mouse Event\n",
    "\n",
    "# Mouse as a Paint Brush\n",
    "\n",
    "OpenCV provides a facility to use the mouse as a paint brush or a drawing tool. Whenever any mouse event occurs on the window screen, it can draw anything. Mouse events can be left-button down, left-button up, double-click, etc. It gives us the coordinates (x,y) for every mouse event. By using these coordinates, we can draw whatever we want. To get the list of all available events, run the following code in the terminal:"
   ]
  },
  {
   "cell_type": "code",
   "execution_count": 19,
   "metadata": {},
   "outputs": [
    {
     "name": "stdout",
     "output_type": "stream",
     "text": [
      "['EVENT_FLAG_ALTKEY', 'EVENT_FLAG_CTRLKEY', 'EVENT_FLAG_LBUTTON', 'EVENT_FLAG_MBUTTON', 'EVENT_FLAG_RBUTTON', 'EVENT_FLAG_SHIFTKEY', 'EVENT_LBUTTONDBLCLK', 'EVENT_LBUTTONDOWN', 'EVENT_LBUTTONUP', 'EVENT_MBUTTONDBLCLK', 'EVENT_MBUTTONDOWN', 'EVENT_MBUTTONUP', 'EVENT_MOUSEHWHEEL', 'EVENT_MOUSEMOVE', 'EVENT_MOUSEWHEEL', 'EVENT_RBUTTONDBLCLK', 'EVENT_RBUTTONDOWN', 'EVENT_RBUTTONUP']\n"
     ]
    }
   ],
   "source": [
    "import cv2  \n",
    "mouse_events = [j for j in dir(cv2) if 'EVENT' in j]  \n",
    "print(mouse_events)  "
   ]
  },
  {
   "cell_type": "raw",
   "metadata": {},
   "source": [
    "Above code will return a list of all mouse events that are supported by OpenCV."
   ]
  },
  {
   "cell_type": "markdown",
   "metadata": {},
   "source": [
    "# Draw Circle\n",
    "\n",
    "To draw a circle on the window screen, we first need to create a mouse callback function by using the cv2.setMouseCallback() function. It has a specific format that remains same everywhere. Our mouse callback function is facilitated by drawing a circle using double-click. Consider the following program:"
   ]
  },
  {
   "cell_type": "code",
   "execution_count": 21,
   "metadata": {},
   "outputs": [
    {
     "ename": "KeyboardInterrupt",
     "evalue": "",
     "output_type": "error",
     "traceback": [
      "\u001b[1;31m---------------------------------------------------------------------------\u001b[0m",
      "\u001b[1;31mKeyboardInterrupt\u001b[0m                         Traceback (most recent call last)",
      "\u001b[1;32m<ipython-input-21-99c104df07db>\u001b[0m in \u001b[0;36m<module>\u001b[1;34m\u001b[0m\n\u001b[0;32m     11\u001b[0m \u001b[1;32mwhile\u001b[0m\u001b[1;33m(\u001b[0m\u001b[1;36m1\u001b[0m\u001b[1;33m)\u001b[0m\u001b[1;33m:\u001b[0m\u001b[1;33m\u001b[0m\u001b[1;33m\u001b[0m\u001b[0m\n\u001b[0;32m     12\u001b[0m     \u001b[0mcv2\u001b[0m\u001b[1;33m.\u001b[0m\u001b[0mimshow\u001b[0m\u001b[1;33m(\u001b[0m\u001b[1;34m'image'\u001b[0m\u001b[1;33m,\u001b[0m\u001b[0mimg\u001b[0m\u001b[1;33m)\u001b[0m\u001b[1;33m\u001b[0m\u001b[1;33m\u001b[0m\u001b[0m\n\u001b[1;32m---> 13\u001b[1;33m     \u001b[1;32mif\u001b[0m \u001b[0mcv2\u001b[0m\u001b[1;33m.\u001b[0m\u001b[0mwaitKey\u001b[0m\u001b[1;33m(\u001b[0m\u001b[1;36m20\u001b[0m\u001b[1;33m)\u001b[0m \u001b[1;33m&\u001b[0m \u001b[1;36m0xFF\u001b[0m \u001b[1;33m==\u001b[0m \u001b[1;36m27\u001b[0m\u001b[1;33m:\u001b[0m\u001b[1;33m\u001b[0m\u001b[1;33m\u001b[0m\u001b[0m\n\u001b[0m\u001b[0;32m     14\u001b[0m         \u001b[1;32mbreak\u001b[0m\u001b[1;33m\u001b[0m\u001b[1;33m\u001b[0m\u001b[0m\n\u001b[0;32m     15\u001b[0m \u001b[0mcv2\u001b[0m\u001b[1;33m.\u001b[0m\u001b[0mdestroyAllWindows\u001b[0m\u001b[1;33m(\u001b[0m\u001b[1;33m)\u001b[0m\u001b[1;33m\u001b[0m\u001b[1;33m\u001b[0m\u001b[0m\n",
      "\u001b[1;31mKeyboardInterrupt\u001b[0m: "
     ]
    }
   ],
   "source": [
    "import cv2  \n",
    "import numpy as np  \n",
    "# Creating mouse callback function  \n",
    "def draw_circle(event,x,y,flags,param):  \n",
    "    if(event == cv2.EVENT_LBUTTONDBLCLK):  \n",
    "            cv2.circle(img,(x,y),50,(255,255, 0),1)  \n",
    "# Creating a black image, a window and bind the function to window  \n",
    "img = np.zeros((512,512,3), np.uint8)  \n",
    "cv2.namedWindow('image')  \n",
    "cv2.setMouseCallback('image',draw_circle)  \n",
    "while(1):  \n",
    "    cv2.imshow('image',img)  \n",
    "    if cv2.waitKey(20) & 0xFF == 27:  \n",
    "        break  \n",
    "cv2.destroyAllWindows()  "
   ]
  },
  {
   "cell_type": "raw",
   "metadata": {},
   "source": [
    "In the above code, we first created a black window screen where the mouse event has occurred. When we double-click on the black window, it will draw a circle as we defined in the callback draw_circle() function."
   ]
  },
  {
   "cell_type": "markdown",
   "metadata": {},
   "source": [
    "# Draw Rectangle and Curve\n",
    "\n",
    "We can draw any shape on the window screen. We draw either rectangles or circles (depending on the model we select) by dragging the mouse as we do in Paint application. We consider the example where we created a callback function that has two parts. The first part is to draw the rectangle and another part to draw the circles. Let see the given example to understand it in more specific way:"
   ]
  },
  {
   "cell_type": "code",
   "execution_count": 22,
   "metadata": {},
   "outputs": [
    {
     "ename": "KeyboardInterrupt",
     "evalue": "",
     "output_type": "error",
     "traceback": [
      "\u001b[1;31m---------------------------------------------------------------------------\u001b[0m",
      "\u001b[1;31mKeyboardInterrupt\u001b[0m                         Traceback (most recent call last)",
      "\u001b[1;32m<ipython-input-22-3989b7f6fb6e>\u001b[0m in \u001b[0;36m<module>\u001b[1;34m\u001b[0m\n\u001b[0;32m     28\u001b[0m \u001b[1;32mwhile\u001b[0m\u001b[1;33m(\u001b[0m\u001b[1;36m1\u001b[0m\u001b[1;33m)\u001b[0m\u001b[1;33m:\u001b[0m\u001b[1;33m\u001b[0m\u001b[1;33m\u001b[0m\u001b[0m\n\u001b[0;32m     29\u001b[0m     \u001b[0mcv2\u001b[0m\u001b[1;33m.\u001b[0m\u001b[0mimshow\u001b[0m\u001b[1;33m(\u001b[0m\u001b[1;34m'image'\u001b[0m\u001b[1;33m,\u001b[0m\u001b[0mimg\u001b[0m\u001b[1;33m)\u001b[0m\u001b[1;33m\u001b[0m\u001b[1;33m\u001b[0m\u001b[0m\n\u001b[1;32m---> 30\u001b[1;33m     \u001b[0mk\u001b[0m \u001b[1;33m=\u001b[0m \u001b[0mcv2\u001b[0m\u001b[1;33m.\u001b[0m\u001b[0mwaitKey\u001b[0m\u001b[1;33m(\u001b[0m\u001b[1;36m1\u001b[0m\u001b[1;33m)\u001b[0m \u001b[1;33m&\u001b[0m \u001b[1;36m0xFF\u001b[0m\u001b[1;33m\u001b[0m\u001b[1;33m\u001b[0m\u001b[0m\n\u001b[0m\u001b[0;32m     31\u001b[0m     \u001b[1;32mif\u001b[0m \u001b[0mk\u001b[0m \u001b[1;33m==\u001b[0m \u001b[0mord\u001b[0m\u001b[1;33m(\u001b[0m\u001b[1;34m'm'\u001b[0m\u001b[1;33m)\u001b[0m\u001b[1;33m:\u001b[0m\u001b[1;33m\u001b[0m\u001b[1;33m\u001b[0m\u001b[0m\n\u001b[0;32m     32\u001b[0m         \u001b[0mmode\u001b[0m \u001b[1;33m=\u001b[0m \u001b[1;32mnot\u001b[0m \u001b[0mmode\u001b[0m\u001b[1;33m\u001b[0m\u001b[1;33m\u001b[0m\u001b[0m\n",
      "\u001b[1;31mKeyboardInterrupt\u001b[0m: "
     ]
    }
   ],
   "source": [
    "import cv2  \n",
    "import numpy as np  \n",
    "draw = False # true if the mouse is pressed. Press m to shift into curve mode.  \n",
    "mode = True # if True, draw rectangle.  \n",
    "a,b = -1,-1  \n",
    "# mouse callback function  \n",
    "def draw_circle(event,x,y,flags,param):  \n",
    "    global a,b,draw,mode  \n",
    "    if(event == cv2.EVENT_LBUTTONDOWN):  \n",
    "        draw = True  \n",
    "        a,b = x,y  \n",
    "    elif (event == cv2.EVENT_MOUSEMOVE):  \n",
    "        if draw == True:  \n",
    "            if mode == True:  \n",
    "                cv2.rectangle(img,(a,b),(x,y),(0,255,0),-1)  \n",
    "            else:  \n",
    "                cv2.circle(img,(x,y),5,(0,0,255),-1)  \n",
    "    elif(event == cv2.EVENT_LBUTTONUP):  \n",
    "        draw = False  \n",
    "        if mode == True:  \n",
    "            cv2.rectangle(img,(a,b),(x,y),(0,255,0),-1)  \n",
    "        else:  \n",
    "            cv2.circle(img,(x,y),5,(0,0,255),-1)  \n",
    "# We bind the keyboard key m to toggle between rectangle and circle.  \n",
    "img = np.zeros((512,512,3), np.uint8)  \n",
    "cv2.namedWindow('image')  \n",
    "cv2.setMouseCallback('image',draw_circle)  \n",
    "while(1):  \n",
    "    cv2.imshow('image',img)  \n",
    "    k = cv2.waitKey(1) & 0xFF  \n",
    "    if k == ord('m'):  \n",
    "        mode = not mode  \n",
    "    elif(k == 27):  \n",
    "        break  \n",
    "cv2.destroyAllWindows() "
   ]
  },
  {
   "cell_type": "raw",
   "metadata": {},
   "source": [
    "In the above program, we have created two mouse callback functions. It is bound with the OpenCV window. In the while loop, we set a keyboard binding for key 'm' to shift between rectangle and curve."
   ]
  },
  {
   "cell_type": "markdown",
   "metadata": {},
   "source": [
    "# Happy Learning\n",
    "\n",
    "___https://www.javatpoint.com/opencv___"
   ]
  }
 ],
 "metadata": {
  "kernelspec": {
   "display_name": "Python 3",
   "language": "python",
   "name": "python3"
  },
  "language_info": {
   "codemirror_mode": {
    "name": "ipython",
    "version": 3
   },
   "file_extension": ".py",
   "mimetype": "text/x-python",
   "name": "python",
   "nbconvert_exporter": "python",
   "pygments_lexer": "ipython3",
   "version": "3.8.3"
  }
 },
 "nbformat": 4,
 "nbformat_minor": 4
}
